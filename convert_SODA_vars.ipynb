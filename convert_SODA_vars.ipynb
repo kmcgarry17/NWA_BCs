{
 "cells": [
  {
   "cell_type": "code",
   "execution_count": 27,
   "metadata": {},
   "outputs": [
    {
     "name": "stdout",
     "output_type": "stream",
     "text": [
      "Once deleted, variables cannot be recovered. Proceed (y/[n])? y\n"
     ]
    }
   ],
   "source": [
    "%reset"
   ]
  },
  {
   "cell_type": "code",
   "execution_count": 28,
   "metadata": {},
   "outputs": [],
   "source": [
    "import netCDF4 as nc\n",
    "import gsw\n",
    "import pickle as pk\n",
    "import numpy as np"
   ]
  },
  {
   "cell_type": "code",
   "execution_count": 32,
   "metadata": {},
   "outputs": [],
   "source": [
    "# load temperature and salinity from SODA netcdf file\n",
    "\n",
    "SODA_file = \"/d1/enrique/bdry/NWA_bdry_SODA3.3.1_y2012.nc\"\n",
    "Sds = nc.Dataset(SODA_file)\n",
    "#Sds.variables.keys()"
   ]
  },
  {
   "cell_type": "code",
   "execution_count": 33,
   "metadata": {},
   "outputs": [],
   "source": [
    "# pull out salinity and temperature \n",
    "\n",
    "temp_south = Sds.variables['temp_south'][:]\n",
    "temp_east = Sds.variables['temp_east'][:]\n",
    "\n",
    "salt_south = Sds.variables['salt_south'][:]\n",
    "salt_east = Sds.variables['salt_east'][:]\n",
    "\n",
    "#print(temp_south.shape)\n",
    "#print(temp_east.shape)\n",
    "#print(salt_south.shape)\n",
    "#print(salt_east.shape)\n",
    "\n",
    "# east is 362, south is 722"
   ]
  },
  {
   "cell_type": "code",
   "execution_count": 34,
   "metadata": {},
   "outputs": [],
   "source": [
    "# I previously calculated the depth at each point using grid file\n",
    "\n",
    "with open('/d1/mkelly/NWA/romsdepth.p', 'rb') as f:\n",
    "    depth = pk.load(f)\n",
    "\n",
    "# index boundary depths\n",
    "depth_east = depth[:, 721, :]\n",
    "depth_south = depth[1, :, :]\n",
    "\n",
    "# transpose depth to match other variable dims\n",
    "depth_south=np.transpose(depth_south)\n",
    "depth_east=np.transpose(depth_east)\n",
    "\n",
    "#print(depth_south.shape)\n",
    "\n",
    "# pickle depth\n",
    "with open('BC_depth.p', 'wb') as f:\n",
    "    pk.dump([depth_south, depth_east], f)"
   ]
  },
  {
   "cell_type": "code",
   "execution_count": 35,
   "metadata": {},
   "outputs": [],
   "source": [
    "# get latitude and longitude coordinates from NWA grid file\n",
    "grd_file = \"/d1/mkelly/NWA/NWA_grd.nc\"\n",
    "grdds = nc.Dataset(grd_file)\n",
    "\n",
    "lat = grdds.variables['lat_rho'][:]\n",
    "lon = grdds.variables['lon_rho'][:]\n",
    "\n",
    "#print(lon.shape)\n",
    "\n",
    "# index BC coords\n",
    "lat_south = lat[0, :]\n",
    "lon_south = lon[0, :]\n",
    "\n",
    "lat_east = lat[:, 721]\n",
    "lon_east = lon[:, 721]\n",
    "\n",
    "#print(lon_south.shape)\n",
    "#print(lat_east.shape)\n",
    "\n",
    "# repeat lat and lon at all 40 depth levels\n",
    "lon_south = np.tile(lon_south, (40, 1))\n",
    "lat_south = np.tile(lat_south, (40, 1))\n",
    "\n",
    "lon_east = np.tile(lon_east, (40, 1))\n",
    "lat_east = np.tile(lat_east, (40, 1))\n",
    "\n",
    "# pickle coords\n",
    "with open('BC_coords.p', 'wb') as f:\n",
    "    pk.dump([lon_south, lon_east, lat_south, lat_east], f)\n",
    "\n",
    "#print(lon_south.shape)\n",
    "#print(lat_south.shape)"
   ]
  },
  {
   "cell_type": "code",
   "execution_count": 37,
   "metadata": {},
   "outputs": [],
   "source": [
    "# pull out one time step\n",
    "\n",
    "salt_south1 = salt_south[0, :, :]\n",
    "salt_east1 = salt_east[0, :, :]\n",
    "\n",
    "temp_south1 = temp_south[0, :, :]\n",
    "temp_east1 = temp_east[0, :, :]\n",
    "\n",
    "#print(salt_south1.shape)\n",
    "#print(temp_south1.shape)\n",
    "\n",
    "# will need to loop this to perform on all time steps"
   ]
  },
  {
   "cell_type": "markdown",
   "metadata": {},
   "source": [
    "# need absolute salinity\n",
    "#### SA_south = gsw.SA_from_SP(SP, p, lon, lat)\n",
    "#### inputs are SP, p, lon, lat\n",
    "#### should all have the same dims\n",
    "#### every point has salinity, pressure, lon, and lat"
   ]
  },
  {
   "cell_type": "code",
   "execution_count": 39,
   "metadata": {},
   "outputs": [],
   "source": [
    "# calculate absolute salinity\n",
    "\n",
    "SA_south = gsw.SA_from_SP(salt_south1, depth_south, lon_south, lat_south)\n",
    "SA_east = gsw.SA_from_SP(salt_east1, depth_east, lon_east, lat_east)\n",
    "\n",
    "#print(SA_south.shape)"
   ]
  },
  {
   "cell_type": "code",
   "execution_count": 40,
   "metadata": {},
   "outputs": [],
   "source": [
    "# convert potential to conservative temperature\n",
    "\n",
    "CT_south = gsw.CT_from_pt(SA_south, temp_south1)\n",
    "CT_east = gsw.CT_from_pt(SA_east, temp_east1)"
   ]
  },
  {
   "cell_type": "code",
   "execution_count": 41,
   "metadata": {},
   "outputs": [],
   "source": [
    "# convert conservative to in-situ temperature\n",
    "\n",
    "ist_south = gsw.t_from_CT(SA_south, CT_south, depth_south)\n",
    "ist_east = gsw.t_from_CT(SA_east, CT_east, depth_east)"
   ]
  },
  {
   "cell_type": "code",
   "execution_count": 42,
   "metadata": {},
   "outputs": [],
   "source": [
    "# MLR physical inputs are practical salinity and in situ temp\n",
    "# pickle physical inputs\n",
    "with open('SODA_inputs.p', 'wb') as f:\n",
    "    pk.dump([salt_south1, salt_east1, ist_south, ist_east], f)"
   ]
  }
 ],
 "metadata": {
  "kernelspec": {
   "display_name": "Python 3",
   "language": "python",
   "name": "python3"
  },
  "language_info": {
   "codemirror_mode": {
    "name": "ipython",
    "version": 3
   },
   "file_extension": ".py",
   "mimetype": "text/x-python",
   "name": "python",
   "nbconvert_exporter": "python",
   "pygments_lexer": "ipython3",
   "version": "3.6.9"
  }
 },
 "nbformat": 4,
 "nbformat_minor": 4
}
