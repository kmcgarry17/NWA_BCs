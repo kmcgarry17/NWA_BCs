{
 "cells": [
  {
   "cell_type": "code",
   "execution_count": 2,
   "metadata": {},
   "outputs": [
    {
     "name": "stdout",
     "output_type": "stream",
     "text": [
      "Once deleted, variables cannot be recovered. Proceed (y/[n])? y\n"
     ]
    }
   ],
   "source": [
    "%reset"
   ]
  },
  {
   "cell_type": "code",
   "execution_count": 15,
   "metadata": {},
   "outputs": [],
   "source": [
    "# import\n",
    "import pickle as pk\n",
    "import matplotlib.pyplot as plt"
   ]
  },
  {
   "cell_type": "code",
   "execution_count": 4,
   "metadata": {},
   "outputs": [
    {
     "data": {
      "text/plain": [
       "(40, 362)"
      ]
     },
     "execution_count": 4,
     "metadata": {},
     "output_type": "execute_result"
    }
   ],
   "source": [
    "with open('SODA_inputs.p', 'rb') as f:\n",
    "    salt_south, salt_east, ist_south, ist_east = pk.load(f)\n",
    "    \n",
    "salt_east.shape"
   ]
  },
  {
   "cell_type": "code",
   "execution_count": 5,
   "metadata": {},
   "outputs": [],
   "source": [
    "# normalize variables\n",
    "\n",
    "Tmean = 13.1856\n",
    "Tstd = 5.1979\n",
    "\n",
    "Tn_south = (ist_south-Tmean)/Tstd\n",
    "Tn_east = (ist_east-Tmean)/Tstd\n",
    "\n",
    "Smean = 34.4037\n",
    "Sstd = 1.4914\n",
    "\n",
    "Sn_south = (salt_south-Smean)/Sstd\n",
    "Sn_east = (salt_east-Smean)/Sstd"
   ]
  },
  {
   "cell_type": "code",
   "execution_count": 6,
   "metadata": {},
   "outputs": [],
   "source": [
    "# equation coefficients\n",
    "\n",
    "# DIC coefficients\n",
    "a0=2103.3\n",
    "a1=-56.408\n",
    "a2=58.347\n",
    "a3=-7.2612\n",
    "\n",
    "# TA coeffficients\n",
    "b0=2289.4;\n",
    "b1=0.75761;\n",
    "b2=69.15;"
   ]
  },
  {
   "cell_type": "code",
   "execution_count": 10,
   "metadata": {},
   "outputs": [],
   "source": [
    "# next: calculate TA and DIC\n",
    "\n",
    "DIC_south = a0 + a1*Tn_south + a2*Sn_south + a3*Tn_south*Sn_south\n",
    "DIC_east = a0 + a1*Tn_east + a2*Sn_east + a3*Tn_east*Sn_east\n",
    "\n",
    "TA_south = b0 + b1*Tn_south + b2*Sn_south\n",
    "TA_east = b0 + b1*Tn_east + b2*Sn_east"
   ]
  },
  {
   "cell_type": "markdown",
   "metadata": {},
   "source": [
    "# plot depth sections"
   ]
  },
  {
   "cell_type": "code",
   "execution_count": 17,
   "metadata": {},
   "outputs": [],
   "source": [
    "# bring in depth \n",
    "\n",
    "with open('/d1/mkelly/NWA/romsdepth.p', 'rb') as f:\n",
    "    depth = pk.load(f)\n",
    "\n",
    "depth_east = depth[:, 721, :]\n",
    "depth_south = depth[1, :, :]\n",
    "\n",
    "# and lat/lon coords\n",
    "\n",
    "with open('BC_coords.p', 'rb') as f:\n",
    "    lon_south, lon_east, lat_south, lat_east = pk.load(f)"
   ]
  },
  {
   "cell_type": "code",
   "execution_count": 18,
   "metadata": {},
   "outputs": [
    {
     "data": {
      "text/plain": [
       "(40, 722)"
      ]
     },
     "execution_count": 18,
     "metadata": {},
     "output_type": "execute_result"
    }
   ],
   "source": [
    "lon_south.shape"
   ]
  },
  {
   "cell_type": "code",
   "execution_count": 19,
   "metadata": {},
   "outputs": [
    {
     "data": {
      "text/plain": [
       "(722, 40)"
      ]
     },
     "execution_count": 19,
     "metadata": {},
     "output_type": "execute_result"
    }
   ],
   "source": [
    "depth_south.shape"
   ]
  },
  {
   "cell_type": "code",
   "execution_count": 16,
   "metadata": {},
   "outputs": [
    {
     "data": {
      "text/plain": [
       "<Figure size 864x432 with 0 Axes>"
      ]
     },
     "execution_count": 16,
     "metadata": {},
     "output_type": "execute_result"
    },
    {
     "data": {
      "text/plain": [
       "<Figure size 864x432 with 0 Axes>"
      ]
     },
     "metadata": {},
     "output_type": "display_data"
    }
   ],
   "source": [
    "plt.figure(figsize=(12, 6))\n",
    "plt.scatter()"
   ]
  },
  {
   "cell_type": "code",
   "execution_count": null,
   "metadata": {},
   "outputs": [],
   "source": []
  }
 ],
 "metadata": {
  "kernelspec": {
   "display_name": "Python 3",
   "language": "python",
   "name": "python3"
  },
  "language_info": {
   "codemirror_mode": {
    "name": "ipython",
    "version": 3
   },
   "file_extension": ".py",
   "mimetype": "text/x-python",
   "name": "python",
   "nbconvert_exporter": "python",
   "pygments_lexer": "ipython3",
   "version": "3.6.9"
  }
 },
 "nbformat": 4,
 "nbformat_minor": 4
}
