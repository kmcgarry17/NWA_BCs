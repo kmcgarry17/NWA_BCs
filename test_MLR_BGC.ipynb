{
 "cells": [
  {
   "cell_type": "code",
   "execution_count": 102,
   "metadata": {},
   "outputs": [
    {
     "name": "stdout",
     "output_type": "stream",
     "text": [
      "Once deleted, variables cannot be recovered. Proceed (y/[n])? y\n"
     ]
    }
   ],
   "source": [
    "%reset"
   ]
  },
  {
   "cell_type": "code",
   "execution_count": 103,
   "metadata": {},
   "outputs": [],
   "source": [
    "import netCDF4 as nc\n",
    "import gsw\n",
    "import pickle as pk\n",
    "import numpy as np"
   ]
  },
  {
   "cell_type": "code",
   "execution_count": 104,
   "metadata": {},
   "outputs": [
    {
     "data": {
      "text/plain": [
       "odict_keys(['theta_s', 'theta_b', 'Tcline', 'hc', 's_rho', 's_w', 'Cs_r', 'Cs_w', 'h', 'ocean_time', 'zeta_south', 'zeta_east', 'temp_east', 'temp_south', 'salt_east', 'salt_south', 'angle', 'lat_psi', 'lat_rho', 'lat_u', 'lat_v', 'lon_psi', 'lon_rho', 'lon_u', 'lon_v', 'mask_psi', 'mask_rho', 'mask_u', 'mask_v', 'pm', 'pn', 'u_east', 'u_south', 'ubar_east', 'ubar_south', 'v_east', 'v_south', 'vbar_east', 'vbar_south'])"
      ]
     },
     "execution_count": 104,
     "metadata": {},
     "output_type": "execute_result"
    }
   ],
   "source": [
    "# load temperature and salinity from SODA file\n",
    "SODA_file = \"/d1/enrique/bdry/NWA_bdry_SODA3.3.1_y2012.nc\"\n",
    "Sds = nc.Dataset(SODA_file)\n",
    "Sds.variables.keys()"
   ]
  },
  {
   "cell_type": "code",
   "execution_count": 105,
   "metadata": {},
   "outputs": [
    {
     "data": {
      "text/plain": [
       "(73, 40, 362)"
      ]
     },
     "execution_count": 105,
     "metadata": {},
     "output_type": "execute_result"
    }
   ],
   "source": [
    "temp_south = Sds.variables['temp_south'][:]\n",
    "temp_east = Sds.variables['temp_east'][:]\n",
    "\n",
    "salt_south = Sds.variables['salt_south'][:]\n",
    "salt_east = Sds.variables['salt_east'][:]\n",
    "\n",
    "#temp_south.shape\n",
    "#temp_east.shape\n",
    "#salt_south.shape\n",
    "salt_east.shape\n",
    "\n",
    "# east is 362, south is 722"
   ]
  },
  {
   "cell_type": "code",
   "execution_count": 106,
   "metadata": {},
   "outputs": [
    {
     "data": {
      "text/plain": [
       "(722, 40)"
      ]
     },
     "execution_count": 106,
     "metadata": {},
     "output_type": "execute_result"
    }
   ],
   "source": [
    "# I calculated the depth from the grid file and pickled\n",
    "# load that\n",
    "\n",
    "with open('/d1/mkelly/NWA/romsdepth.p', 'rb') as f:\n",
    "    depth = pk.load(f)\n",
    "\n",
    "depth_east = depth[:, 721, :]\n",
    "depth_south = depth[1, :, :]\n",
    "\n",
    "# horz x vert\n",
    "# may need to switch dims to match\n",
    "#depth_east.shape\n",
    "depth_south.shape"
   ]
  },
  {
   "cell_type": "code",
   "execution_count": 107,
   "metadata": {},
   "outputs": [
    {
     "data": {
      "text/plain": [
       "(362, 722)"
      ]
     },
     "execution_count": 107,
     "metadata": {},
     "output_type": "execute_result"
    }
   ],
   "source": [
    "# get latitude and longitude coordinates from NWA grid file\n",
    "grd_file = \"/d1/mkelly/NWA/NWA_grd.nc\"\n",
    "grdds = nc.Dataset(grd_file)\n",
    "\n",
    "lat = grdds.variables['lat_rho'][:]\n",
    "lon = grdds.variables['lon_rho'][:]\n",
    "\n",
    "lon.shape"
   ]
  },
  {
   "cell_type": "code",
   "execution_count": 108,
   "metadata": {},
   "outputs": [
    {
     "data": {
      "text/plain": [
       "(722,)"
      ]
     },
     "execution_count": 108,
     "metadata": {},
     "output_type": "execute_result"
    }
   ],
   "source": [
    "# index BC coords\n",
    "\n",
    "lat_south = lat[0, :]\n",
    "lon_south = lon[0, :]\n",
    "\n",
    "lat_east = lat[:, 721]\n",
    "lon_east = lon[:, 721]\n",
    "\n",
    "lon_south.shape\n",
    "#lat_east.shape"
   ]
  },
  {
   "cell_type": "code",
   "execution_count": 115,
   "metadata": {},
   "outputs": [
    {
     "data": {
      "text/plain": [
       "(40, 722)"
      ]
     },
     "execution_count": 115,
     "metadata": {},
     "output_type": "execute_result"
    }
   ],
   "source": [
    "# pull out one time step\n",
    "\n",
    "salt_south1 = salt_south[0, :, :]\n",
    "salt_east1 = salt_east[0, :, :]\n",
    "\n",
    "temp_south1 = temp_south[0, :, :]\n",
    "temp_east1 = temp_east[0, :, :]\n",
    "\n",
    "#salt_south1.shape\n",
    "temp_south1.shape\n",
    "\n",
    "# can put this in a loop later?"
   ]
  },
  {
   "cell_type": "code",
   "execution_count": 110,
   "metadata": {},
   "outputs": [],
   "source": [
    "# need absolute salinity\n",
    "\n",
    "#SA_south = gsw.SA_from_SP(SP, p, lon, lat)\n",
    "\n",
    "# inputs are SP, p, lon, lat\n",
    "# should all have the same dims\n",
    "# every point has salinity, pressure, lon, and lat\n",
    "\n",
    "# dims\n",
    "\n",
    "# SP: 40, 722\n",
    "# p: 722, 40\n",
    "# lon: 722\n",
    "# lat: 722"
   ]
  },
  {
   "cell_type": "code",
   "execution_count": 111,
   "metadata": {},
   "outputs": [
    {
     "data": {
      "text/plain": [
       "(40, 722)"
      ]
     },
     "execution_count": 111,
     "metadata": {},
     "output_type": "execute_result"
    }
   ],
   "source": [
    "# repeat lat and lon at all 40 depth levels\n",
    "\n",
    "lon_south = np.tile(lon_south, (40, 1))\n",
    "lat_south = np.tile(lat_south, (40, 1))\n",
    "\n",
    "#lon_south.shape\n",
    "lat_south.shape"
   ]
  },
  {
   "cell_type": "code",
   "execution_count": 112,
   "metadata": {},
   "outputs": [],
   "source": [
    "# SP: 40, 722\n",
    "# p: 722, 40\n",
    "# lon: 40, 722\n",
    "# lat: 40, 722"
   ]
  },
  {
   "cell_type": "code",
   "execution_count": 113,
   "metadata": {},
   "outputs": [
    {
     "data": {
      "text/plain": [
       "(40, 722)"
      ]
     },
     "execution_count": 113,
     "metadata": {},
     "output_type": "execute_result"
    }
   ],
   "source": [
    "# now need to flip p\n",
    "\n",
    "depth_south=np.transpose(depth_south)\n",
    "depth_east=np.transpose(depth_east)\n",
    "\n",
    "depth_south.shape"
   ]
  },
  {
   "cell_type": "code",
   "execution_count": 114,
   "metadata": {},
   "outputs": [
    {
     "data": {
      "text/plain": [
       "(40, 722)"
      ]
     },
     "execution_count": 114,
     "metadata": {},
     "output_type": "execute_result"
    }
   ],
   "source": [
    "# calculate absolute salinity\n",
    "\n",
    "SA_south = gsw.SA_from_SP(salt_south1, depth_south, lon_south, lat_south)\n",
    "SA_east = gsw.SA_from_SP(salt_east1, depth_east, lon_east, lat_east)\n",
    "\n",
    "SA_south.shape"
   ]
  },
  {
   "cell_type": "code",
   "execution_count": 117,
   "metadata": {},
   "outputs": [],
   "source": [
    "# potential to conservative temperature\n",
    "\n",
    "CT_south = gsw.CT_from_pt(SA_south, temp_south1)\n",
    "CT_east = gsw.CT_from_pt(SA_east, temp_east1)"
   ]
  },
  {
   "cell_type": "code",
   "execution_count": null,
   "metadata": {},
   "outputs": [],
   "source": [
    "# conservative to absolute temperature\n",
    "\n"
   ]
  }
 ],
 "metadata": {
  "kernelspec": {
   "display_name": "Python 3",
   "language": "python",
   "name": "python3"
  },
  "language_info": {
   "codemirror_mode": {
    "name": "ipython",
    "version": 3
   },
   "file_extension": ".py",
   "mimetype": "text/x-python",
   "name": "python",
   "nbconvert_exporter": "python",
   "pygments_lexer": "ipython3",
   "version": "3.6.9"
  }
 },
 "nbformat": 4,
 "nbformat_minor": 4
}
